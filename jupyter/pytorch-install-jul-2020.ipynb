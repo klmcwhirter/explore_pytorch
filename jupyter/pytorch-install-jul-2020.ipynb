{
 "cells": [
  {
   "cell_type": "markdown",
   "metadata": {},
   "source": [
    "<a href=\"https://colab.research.google.com/github/jeffheaton/t81_558_deep_learning/blob/master/manual_setup.ipynb\" target=\"_parent\"><img src=\"https://colab.research.google.com/assets/colab-badge.svg\" alt=\"Open In Colab\"/></a>\n",
    "\n",
    "### From [https://github.com/jeffheaton/t81_558_deep_learning/](https://github.com/jeffheaton/t81_558_deep_learning/blob/476c4df534dea71539bdc17742b5e92a255af880/install/pytorch-install-jul-2020.ipynb)"
   ]
  },
  {
   "cell_type": "markdown",
   "metadata": {},
   "source": [
    "# T81-558: Applications of Deep Neural Networks\n",
    "**Python Setup**\n",
    "* Instructor: [Jeff Heaton](https://sites.wustl.edu/jeffheaton/), McKelvey School of Engineering, [Washington University in St. Louis](https://engineering.wustl.edu/Programs/Pages/default.aspx)\n",
    "* For more information visit the [class website](https://sites.wustl.edu/jeffheaton/t81-558/)."
   ]
  },
  {
   "cell_type": "code",
   "execution_count": 15,
   "metadata": {},
   "outputs": [
    {
     "name": "stdout",
     "output_type": "stream",
     "text": [
      "Executed at 2024-04-17 07:32:53.424947\n",
      "\n",
      "Python 3.12.2 (main, Feb 21 2024, 00:00:00) [GCC 13.2.1 20231205 (Red Hat 13.2.1-6)]\n",
      "\n",
      "PyTorch Version: 2.2.2+cu121\n",
      "GPU is AVAILABLE.\n",
      "Using architecture: CUDA\n",
      "\n",
      "Pandas 2.2.2\n",
      "Scikit-Learn 1.4.2\n"
     ]
    }
   ],
   "source": [
    "# What version of Python do you have?\n",
    "from datetime import datetime\n",
    "import sys\n",
    "\n",
    "import torch\n",
    "import pandas as pd\n",
    "import sklearn as sk\n",
    "\n",
    "print(f'Executed at {datetime.now()}')\n",
    "print()\n",
    "print(f\"Python {sys.version}\")\n",
    "print()\n",
    "print(f\"PyTorch Version: {torch.__version__}\")\n",
    "print(f'GPU is{' NOT' if not torch.cuda.is_available() else ''} AVAILABLE.')\n",
    "# Make use of a GPU or MPS (Apple) if one is available.\n",
    "has_mps = torch.backends.mps.is_built()\n",
    "arch = \"MPS\" if has_mps else \"CUDA\" if torch.cuda.is_available() else \"CPU\"\n",
    "print(f\"Using architecture: {arch}\")\n",
    "print()\n",
    "print(f\"Pandas {pd.__version__}\")\n",
    "print(f\"Scikit-Learn {sk.__version__}\")"
   ]
  }
 ],
 "metadata": {
  "anaconda-cloud": {},
  "kernelspec": {
   "display_name": ".venv",
   "language": "python",
   "name": "python3"
  },
  "language_info": {
   "codemirror_mode": {
    "name": "ipython",
    "version": 3
   },
   "file_extension": ".py",
   "mimetype": "text/x-python",
   "name": "python",
   "nbconvert_exporter": "python",
   "pygments_lexer": "ipython3",
   "version": "3.12.2"
  }
 },
 "nbformat": 4,
 "nbformat_minor": 4
}
