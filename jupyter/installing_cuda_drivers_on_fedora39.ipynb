{
 "cells": [
  {
   "cell_type": "markdown",
   "metadata": {},
   "source": [
    "# Installing NVIDIA CUDA Drivers on Fedora 39\n",
    "\n",
    "IMPORTANT!!! DO NOT install the proprietary NVIDIA drivers from the NVIDIA website using the run script method. This will surely break your system when kernel updates appear.\n",
    "\n",
    "See this video segment ... [Proprietary NVIDIA Drivers](https://youtu.be/CW1CLcT83as?t=419)"
   ]
  },
  {
   "cell_type": "markdown",
   "metadata": {},
   "source": [
    "Before installing, ensure your system is updated to prevent potential conflicts between graphic card drivers and kernels. To update your Fedora system, use the following command:\n",
    "\n",
    "```bash\n",
    "sudo dnf upgrade --refresh\n",
    "```"
   ]
  },
  {
   "cell_type": "markdown",
   "metadata": {},
   "source": [
    "\n",
    "Import Nvidia CUDA Repository for Fedora 39:\n",
    "\n",
    "```bash\n",
    "sudo dnf config-manager --add-repo https://developer.download.nvidia.com/compute/cuda/repos/fedora39/x86_64/cuda-fedora39.repo\n",
    "```"
   ]
  },
  {
   "cell_type": "markdown",
   "metadata": {},
   "source": [
    "Proceed to install the necessary dependencies for NVIDIA Drivers:\n",
    "```bash\n",
    "sudo dnf install kernel-headers kernel-devel tar bzip2 make automake gcc gcc-c++ pciutils elfutils-libelf-devel libglvnd-opengl libglvnd-glx libglvnd-devel acpid pkgconfig dkms\n",
    "```\n"
   ]
  },
  {
   "cell_type": "markdown",
   "metadata": {},
   "source": [
    "To view the NVIDIA RPM modules, execute:\n",
    "\n",
    "```bash\n",
    "sudo dnf module list nvidia-driver\n",
    "```\n",
    "\n",
    "```\n",
    "$ sudo dnf module list nvidia-driver\n",
    "Last metadata expiration check: 2:42:46 ago on Wed 17 Apr 2024 07:11:24 AM PDT.\n",
    "cuda-fedora39-x86_64\n",
    "Name                   Stream                      Profiles                           Summary                                       \n",
    "nvidia-driver          latest                      default [d], fm, ks, src           Nvidia driver for latest branch               \n",
    "nvidia-driver          latest-dkms [d][e]          default [d] [i], fm, ks            Nvidia driver for latest-dkms branch          \n",
    "nvidia-driver          open-dkms                   default [d], fm, ks, src           Nvidia driver for open-dkms branch            \n",
    "nvidia-driver          550                         default [d], fm, ks, src           Nvidia driver for 550 branch                  \n",
    "nvidia-driver          550-dkms                    default [d], fm, ks                Nvidia driver for 550-dkms branch             \n",
    "nvidia-driver          550-open                    default [d], fm, ks, src           Nvidia driver for 550-open branch             \n",
    "\n",
    "Hint: [d]efault, [e]nabled, [x]disabled, [i]nstalled\n",
    "```"
   ]
  },
  {
   "cell_type": "markdown",
   "metadata": {},
   "source": [
    "Select the appropriate one corresponding to your Fedora version to integrate the CUDA repository into your Fedora system.\n",
    "\n",
    "To install the latest NVIDIA drivers using the DKMS method, execute:\n",
    "\n",
    "```bash\n",
    "sudo dnf module install nvidia-driver:latest-dkms\n",
    "```"
   ]
  }
 ],
 "metadata": {
  "language_info": {
   "name": "python"
  }
 },
 "nbformat": 4,
 "nbformat_minor": 2
}
